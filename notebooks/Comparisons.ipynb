{
 "cells": [
  {
   "cell_type": "markdown",
   "metadata": {},
   "source": [
    "# Imports"
   ]
  },
  {
   "cell_type": "code",
   "execution_count": 1,
   "metadata": {},
   "outputs": [],
   "source": [
    "import torch\n",
    "import numpy as np\n",
    "import torch.optim as optim\n",
    "import matplotlib.pyplot as plt\n",
    "from time import time\n",
    "from torch.utils.data import DataLoader\n",
    "from Code.gram import GRAM_RTM\n",
    "from Code.act_maps import ActivationMaps\n",
    "from Code.rcnn_models.linear_1 import BackboneTail as Linear1\n",
    "from Code.rcnn_models.linear_1_conv_1 import BackboneTail as Linear1Conv1\n",
    "from Code.rcnn_models.linear_1_conv_2 import BackboneTail as Linear1Conv2\n",
    "from Code.rcnn_models.linear_2_conv_1 import BackboneTail as Linear2Conv1\n",
    "from Code.rcnn_models.linear_2_conv_2 import BackboneTail as Linear2Conv2\n",
    "from Code.rcnn_models.linear_3_conv_3 import BackboneTail as Linear3Conv3\n",
    "from Code.specialized_nn import PytorchResNet as SpecializedNN\n",
    "from Code.faster_rcnn import FasterRCNN"
   ]
  },
  {
   "cell_type": "markdown",
   "metadata": {},
   "source": [
    "# Datasets"
   ]
  },
  {
   "cell_type": "code",
   "execution_count": 2,
   "metadata": {},
   "outputs": [],
   "source": [
    "gram_dataset_train = GRAM_RTM(prefix=\"GRAM\", split=\"train\", spec_nn=True)\n",
    "gram_dataset_val = GRAM_RTM(prefix=\"GRAM\", split=\"val\", spec_nn=True)\n",
    "gram_dataset_test = GRAM_RTM(prefix=\"GRAM\", split=\"test\", spec_nn=True)\n",
    "act_map_dataset_train = ActivationMaps(prefix=\"GRAM\", split=\"train\")\n",
    "act_map_dataset_val = ActivationMaps(prefix=\"GRAM\", split=\"val\")\n",
    "act_map_dataset_test = ActivationMaps(prefix=\"GRAM\", split=\"test\")\n",
    "gram_dataloader_train = DataLoader(gram_dataset_train, batch_size=16, shuffle=True)\n",
    "gram_dataloader_val = DataLoader(gram_dataset_val, batch_size=16, shuffle=True)\n",
    "gram_dataloader_test = DataLoader(gram_dataset_test, batch_size=16, shuffle=True)\n",
    "act_map_dataloader_train = DataLoader(act_map_dataset_train, batch_size=16, shuffle=True)\n",
    "act_map_dataloader_val = DataLoader(act_map_dataset_val, batch_size=16, shuffle=True)\n",
    "act_map_dataloader_test = DataLoader(act_map_dataset_test, batch_size=16, shuffle=True)"
   ]
  },
  {
   "cell_type": "markdown",
   "metadata": {},
   "source": [
    "# Methods"
   ]
  },
  {
   "cell_type": "code",
   "execution_count": 2,
   "metadata": {},
   "outputs": [],
   "source": [
    "import torch.nn.functional as F\n",
    "criterion = F.cross_entropy\n",
    "\n",
    "def train(loader, model, optimizer):\n",
    "    '''\n",
    "    Train the model for one epoch.\n",
    "    '''\n",
    "    total_loss, total_time = 0, 0\n",
    "    for batch_idx, batch in enumerate(loader):\n",
    "        inputs, targets = batch[0].cuda(), batch[1].cuda()\n",
    "        optimizer.zero_grad()\n",
    "        start_time = time()\n",
    "        output = model(inputs)\n",
    "        loss = criterion(output, targets)\n",
    "        loss.backward()\n",
    "        total_time += time() - start_time\n",
    "        total_loss += loss.item()\n",
    "        optimizer.step()\n",
    "    return total_loss / 4512, total_time\n",
    "                \n",
    "def evaluate_val(loader, model):\n",
    "    '''\n",
    "    Compute loss on val or test data.\n",
    "    '''\n",
    "    total_loss, correct, total_time = 0, 0, 0\n",
    "    with torch.no_grad():\n",
    "        for batch_idx, batch in enumerate(loader):\n",
    "            inputs, targets = batch[0].cuda(), batch[1].cuda()\n",
    "            start_time = time()\n",
    "            output = model(inputs)\n",
    "            total_time += time() - start_time\n",
    "            total_loss += criterion(output, targets).item()\n",
    "            pred = torch.argmax(output, dim=1)\n",
    "            correct += (pred == targets).sum().item()\n",
    "    return total_loss / 1504, 100. * correct / 1504, total_time\n",
    "\n",
    "def evaluate_test(loader, model):\n",
    "    '''\n",
    "    Compute loss on val or test data.\n",
    "    '''\n",
    "    total_loss, correct = 0, 0\n",
    "    with torch.no_grad():\n",
    "        for batch_idx, batch in enumerate(loader):\n",
    "            inputs, targets = batch[0].cuda(), batch[1].cuda()\n",
    "            output = model(inputs)\n",
    "            total_loss += criterion(output, targets).item()\n",
    "            pred = torch.argmax(output, dim=1)\n",
    "            correct += (pred == targets).sum().item()\n",
    "    return total_loss / 1504, 100. * correct / 1504"
   ]
  },
  {
   "cell_type": "markdown",
   "metadata": {},
   "source": [
    "# Accuracy & Speed (Long Training)"
   ]
  },
  {
   "cell_type": "code",
   "execution_count": 4,
   "metadata": {},
   "outputs": [],
   "source": [
    "!rm GRAM/maps && ln -s ~/HDD/mask_maps_50_small GRAM/maps\n",
    "NUM_RUNS, NUM_EPOCHS = 10, 15"
   ]
  },
  {
   "cell_type": "markdown",
   "metadata": {},
   "source": [
    "### Specialized NN"
   ]
  },
  {
   "cell_type": "code",
   "execution_count": 5,
   "metadata": {},
   "outputs": [
    {
     "name": "stdout",
     "output_type": "stream",
     "text": [
      "10 - 15\t"
     ]
    }
   ],
   "source": [
    "spnn_train_loss, spnn_val_loss, spnn_val_acc, spnn_test_loss, spnn_test_acc, spnn_train_time, spnn_inf_time \\\n",
    "    = np.zeros((NUM_RUNS, NUM_EPOCHS)), np.zeros((NUM_RUNS, NUM_EPOCHS)), np.zeros((NUM_RUNS, NUM_EPOCHS)), \\\n",
    "      np.zeros((NUM_RUNS)), np.zeros((NUM_RUNS)), np.zeros((NUM_RUNS, NUM_EPOCHS)), np.zeros((NUM_RUNS, NUM_EPOCHS))\n",
    "for run in range(NUM_RUNS):\n",
    "    model = SpecializedNN().cuda()\n",
    "    optimizer = optim.SGD(model.parameters(), lr=0.1, momentum=0.9)\n",
    "    for epoch in range(NUM_EPOCHS):\n",
    "        print(f'\\r{run + 1} - {epoch + 1}\\t', end='')\n",
    "        train_loss, train_time = train(gram_dataloader_train, model, optimizer)\n",
    "        spnn_train_loss[run, epoch] = train_loss\n",
    "        spnn_train_time[run, epoch] = train_time\n",
    "        val_loss, val_acc, inf_time = evaluate_val(gram_dataloader_val, model)\n",
    "        spnn_val_loss[run, epoch] = val_loss\n",
    "        spnn_val_acc[run, epoch] = val_acc\n",
    "        spnn_inf_time[run, epoch] = inf_time\n",
    "    test_loss, test_acc = evaluate_test(gram_dataloader_test, model)\n",
    "    spnn_test_loss[run] = test_loss\n",
    "    spnn_test_acc[run] = test_acc"
   ]
  },
  {
   "cell_type": "markdown",
   "metadata": {},
   "source": [
    "### 1 Linear + 1 Conv"
   ]
  },
  {
   "cell_type": "code",
   "execution_count": 6,
   "metadata": {},
   "outputs": [
    {
     "name": "stdout",
     "output_type": "stream",
     "text": [
      "10 - 15\t"
     ]
    }
   ],
   "source": [
    "l1c1_train_loss, l1c1_val_loss, l1c1_val_acc, l1c1_test_loss, l1c1_test_acc, l1c1_train_time, l1c1_inf_time \\\n",
    "    = np.zeros((NUM_RUNS, NUM_EPOCHS)), np.zeros((NUM_RUNS, NUM_EPOCHS)), np.zeros((NUM_RUNS, NUM_EPOCHS)), \\\n",
    "      np.zeros((NUM_RUNS)), np.zeros((NUM_RUNS)), np.zeros((NUM_RUNS, NUM_EPOCHS)), np.zeros((NUM_RUNS, NUM_EPOCHS))\n",
    "for run in range(NUM_RUNS):\n",
    "    model = Linear1Conv1().cuda()\n",
    "    optimizer = optim.Adam(model.parameters())\n",
    "    for epoch in range(NUM_EPOCHS):\n",
    "        print(f'\\r{run + 1} - {epoch + 1}\\t', end='')\n",
    "        train_loss, train_time = train(act_map_dataloader_train, model, optimizer)\n",
    "        l1c1_train_loss[run, epoch] = train_loss\n",
    "        l1c1_train_time[run, epoch] = train_time\n",
    "        val_loss, val_acc, inf_time = evaluate_val(act_map_dataloader_val, model)\n",
    "        l1c1_val_loss[run, epoch] = val_loss\n",
    "        l1c1_val_acc[run, epoch] = val_acc\n",
    "        l1c1_inf_time[run, epoch] = inf_time\n",
    "    test_loss, test_acc = evaluate_test(act_map_dataloader_test, model)\n",
    "    l1c1_test_loss[run] = test_loss\n",
    "    l1c1_test_acc[run] = test_acc"
   ]
  },
  {
   "cell_type": "markdown",
   "metadata": {},
   "source": [
    "### 2 Linear + 1 Conv"
   ]
  },
  {
   "cell_type": "code",
   "execution_count": 7,
   "metadata": {},
   "outputs": [
    {
     "name": "stdout",
     "output_type": "stream",
     "text": [
      "10 - 15\t"
     ]
    }
   ],
   "source": [
    "l2c1_train_loss, l2c1_val_loss, l2c1_val_acc, l2c1_test_loss, l2c1_test_acc, l2c1_train_time, l2c1_inf_time \\\n",
    "    = np.zeros((NUM_RUNS, NUM_EPOCHS)), np.zeros((NUM_RUNS, NUM_EPOCHS)), np.zeros((NUM_RUNS, NUM_EPOCHS)), \\\n",
    "      np.zeros((NUM_RUNS)), np.zeros((NUM_RUNS)), np.zeros((NUM_RUNS, NUM_EPOCHS)), np.zeros((NUM_RUNS, NUM_EPOCHS))\n",
    "for run in range(NUM_RUNS):\n",
    "    model = Linear2Conv1().cuda()\n",
    "    optimizer = optim.Adam(model.parameters())\n",
    "    for epoch in range(NUM_EPOCHS):\n",
    "        print(f'\\r{run + 1} - {epoch + 1}\\t', end='')\n",
    "        train_loss, train_time = train(act_map_dataloader_train, model, optimizer)\n",
    "        l2c1_train_loss[run, epoch] = train_loss\n",
    "        l2c1_train_time[run, epoch] = train_time\n",
    "        val_loss, val_acc, inf_time = evaluate_val(act_map_dataloader_val, model)\n",
    "        l2c1_val_loss[run, epoch] = val_loss\n",
    "        l2c1_val_acc[run, epoch] = val_acc\n",
    "        l2c1_inf_time[run, epoch] = inf_time\n",
    "    test_loss, test_acc = evaluate_test(act_map_dataloader_test, model)\n",
    "    l2c1_test_loss[run] = test_loss\n",
    "    l2c1_test_acc[run] = test_acc"
   ]
  },
  {
   "cell_type": "markdown",
   "metadata": {},
   "source": [
    "### 1 Linear + 2 Conv"
   ]
  },
  {
   "cell_type": "code",
   "execution_count": 8,
   "metadata": {},
   "outputs": [
    {
     "name": "stdout",
     "output_type": "stream",
     "text": [
      "10 - 15\t"
     ]
    }
   ],
   "source": [
    "l1c2_train_loss, l1c2_val_loss, l1c2_val_acc, l1c2_test_loss, l1c2_test_acc, l1c2_train_time, l1c2_inf_time \\\n",
    "    = np.zeros((NUM_RUNS, NUM_EPOCHS)), np.zeros((NUM_RUNS, NUM_EPOCHS)), np.zeros((NUM_RUNS, NUM_EPOCHS)), \\\n",
    "      np.zeros((NUM_RUNS)), np.zeros((NUM_RUNS)), np.zeros((NUM_RUNS, NUM_EPOCHS)), np.zeros((NUM_RUNS, NUM_EPOCHS))\n",
    "for run in range(NUM_RUNS):\n",
    "    model = Linear1Conv2().cuda()\n",
    "    optimizer = optim.Adam(model.parameters())\n",
    "    for epoch in range(NUM_EPOCHS):\n",
    "        print(f'\\r{run + 1} - {epoch + 1}\\t', end='')\n",
    "        train_loss, train_time = train(act_map_dataloader_train, model, optimizer)\n",
    "        l1c2_train_loss[run, epoch] = train_loss\n",
    "        l1c2_train_time[run, epoch] = train_time\n",
    "        val_loss, val_acc, inf_time = evaluate_val(act_map_dataloader_val, model)\n",
    "        l1c2_val_loss[run, epoch] = val_loss\n",
    "        l1c2_val_acc[run, epoch] = val_acc\n",
    "        l1c2_inf_time[run, epoch] = inf_time\n",
    "    test_loss, test_acc = evaluate_test(act_map_dataloader_test, model)\n",
    "    l1c2_test_loss[run] = test_loss\n",
    "    l1c2_test_acc[run] = test_acc"
   ]
  },
  {
   "cell_type": "markdown",
   "metadata": {},
   "source": [
    "### 2 Linear + 2 Conv"
   ]
  },
  {
   "cell_type": "code",
   "execution_count": 9,
   "metadata": {},
   "outputs": [
    {
     "name": "stdout",
     "output_type": "stream",
     "text": [
      "10 - 15\t"
     ]
    }
   ],
   "source": [
    "l2c2_train_loss, l2c2_val_loss, l2c2_val_acc, l2c2_test_loss, l2c2_test_acc, l2c2_train_time, l2c2_inf_time \\\n",
    "    = np.zeros((NUM_RUNS, NUM_EPOCHS)), np.zeros((NUM_RUNS, NUM_EPOCHS)), np.zeros((NUM_RUNS, NUM_EPOCHS)), \\\n",
    "      np.zeros((NUM_RUNS)), np.zeros((NUM_RUNS)), np.zeros((NUM_RUNS, NUM_EPOCHS)), np.zeros((NUM_RUNS, NUM_EPOCHS))\n",
    "for run in range(NUM_RUNS):\n",
    "    model = Linear2Conv2().cuda()\n",
    "    optimizer = optim.Adam(model.parameters())\n",
    "    for epoch in range(NUM_EPOCHS):\n",
    "        print(f'\\r{run + 1} - {epoch + 1}\\t', end='')\n",
    "        train_loss, train_time = train(act_map_dataloader_train, model, optimizer)\n",
    "        l2c2_train_loss[run, epoch] = train_loss\n",
    "        l2c2_train_time[run, epoch] = train_time\n",
    "        val_loss, val_acc, inf_time = evaluate_val(act_map_dataloader_val, model)\n",
    "        l2c2_val_loss[run, epoch] = val_loss\n",
    "        l2c2_val_acc[run, epoch] = val_acc\n",
    "        l2c2_inf_time[run, epoch] = inf_time\n",
    "    test_loss, test_acc = evaluate_test(act_map_dataloader_test, model)\n",
    "    l2c2_test_loss[run] = test_loss\n",
    "    l2c2_test_acc[run] = test_acc"
   ]
  },
  {
   "cell_type": "markdown",
   "metadata": {},
   "source": [
    "### 3 Linear + 3 Conv"
   ]
  },
  {
   "cell_type": "code",
   "execution_count": 10,
   "metadata": {},
   "outputs": [
    {
     "name": "stdout",
     "output_type": "stream",
     "text": [
      "10 - 15\t"
     ]
    }
   ],
   "source": [
    "l3c3_train_loss, l3c3_val_loss, l3c3_val_acc, l3c3_test_loss, l3c3_test_acc, l3c3_train_time, l3c3_inf_time \\\n",
    "    = np.zeros((NUM_RUNS, NUM_EPOCHS)), np.zeros((NUM_RUNS, NUM_EPOCHS)), np.zeros((NUM_RUNS, NUM_EPOCHS)), \\\n",
    "      np.zeros((NUM_RUNS)), np.zeros((NUM_RUNS)), np.zeros((NUM_RUNS, NUM_EPOCHS)), np.zeros((NUM_RUNS, NUM_EPOCHS))\n",
    "for run in range(NUM_RUNS):\n",
    "    model = Linear3Conv3().cuda()\n",
    "    optimizer = optim.Adam(model.parameters())\n",
    "    for epoch in range(NUM_EPOCHS):\n",
    "        print(f'\\r{run + 1} - {epoch + 1}\\t', end='')\n",
    "        train_loss, train_time = train(act_map_dataloader_train, model, optimizer)\n",
    "        l3c3_train_loss[run, epoch] = train_loss\n",
    "        l3c3_train_time[run, epoch] = train_time\n",
    "        val_loss, val_acc, inf_time = evaluate_val(act_map_dataloader_val, model)\n",
    "        l3c3_val_loss[run, epoch] = val_loss\n",
    "        l3c3_val_acc[run, epoch] = val_acc\n",
    "        l3c3_inf_time[run, epoch] = inf_time\n",
    "    test_loss, test_acc = evaluate_test(act_map_dataloader_test, model)\n",
    "    l3c3_test_loss[run] = test_loss\n",
    "    l3c3_test_acc[run] = test_acc"
   ]
  },
  {
   "cell_type": "markdown",
   "metadata": {},
   "source": [
    "## Plots"
   ]
  },
  {
   "cell_type": "markdown",
   "metadata": {},
   "source": [
    "### Training Loss"
   ]
  },
  {
   "cell_type": "code",
   "execution_count": 11,
   "metadata": {},
   "outputs": [
    {
     "data": {
      "image/png": "[encoded data removed]",
      "text/plain": [
       "<Figure size 432x288 with 1 Axes>"
      ]
     },
     "metadata": {
      "needs_background": "light"
     },
     "output_type": "display_data"
    }
   ],
   "source": [
    "x = list(range(1, NUM_EPOCHS + 1))\n",
    "plt.plot(x, np.mean(spnn_train_loss, axis=0), label='Specialized NN')\n",
    "plt.plot(x, np.mean(l1c1_train_loss, axis=0), label='1 FC + 1 Conv')\n",
    "plt.plot(x, np.mean(l2c1_train_loss, axis=0), label='2 FC + 1 Conv')\n",
    "plt.plot(x, np.mean(l1c2_train_loss, axis=0), label='1 FC + 2 Conv')\n",
    "plt.plot(x, np.mean(l2c2_train_loss, axis=0), label='2 FC + 2 Conv')\n",
    "plt.plot(x, np.mean(l3c3_train_loss, axis=0), label='3 FC + 3 Conv')\n",
    "plt.legend(loc='best')\n",
    "plt.xticks(x);"
   ]
  },
  {
   "cell_type": "markdown",
   "metadata": {},
   "source": [
    "### Validation Loss"
   ]
  },
  {
   "cell_type": "code",
   "execution_count": 12,
   "metadata": {},
   "outputs": [
    {
     "data": {
      "image/png": "[encoded data removed]",
      "text/plain": [
       "<Figure size 432x288 with 1 Axes>"
      ]
     },
     "metadata": {
      "needs_background": "light"
     },
     "output_type": "display_data"
    }
   ],
   "source": [
    "x = list(range(1, NUM_EPOCHS + 1))\n",
    "plt.plot(x, np.mean(spnn_val_loss, axis=0), label='Specialized NN')\n",
    "plt.plot(x, np.mean(l1c1_val_loss, axis=0), label='1 FC + 1 Conv')\n",
    "plt.plot(x, np.mean(l2c1_val_loss, axis=0), label='2 FC + 1 Conv')\n",
    "plt.plot(x, np.mean(l1c2_val_loss, axis=0), label='1 FC + 2 Conv')\n",
    "plt.plot(x, np.mean(l2c2_val_loss, axis=0), label='2 FC + 2 Conv')\n",
    "plt.plot(x, np.mean(l3c3_val_loss, axis=0), label='3 FC + 3 Conv')\n",
    "plt.legend(loc='best')\n",
    "plt.xticks(x);"
   ]
  },
  {
   "cell_type": "markdown",
   "metadata": {},
   "source": [
    "### Validation Accuracy"
   ]
  },
  {
   "cell_type": "code",
   "execution_count": 13,
   "metadata": {},
   "outputs": [
    {
     "data": {
      "image/png": "[encoded data removed]",
      "text/plain": [
       "<Figure size 432x288 with 1 Axes>"
      ]
     },
     "metadata": {
      "needs_background": "light"
     },
     "output_type": "display_data"
    }
   ],
   "source": [
    "x = list(range(1, NUM_EPOCHS + 1))\n",
    "plt.plot(x, np.mean(spnn_val_acc, axis=0), label='Specialized NN')\n",
    "plt.plot(x, np.mean(l1c1_val_acc, axis=0), label='1 FC + 1 Conv')\n",
    "plt.plot(x, np.mean(l2c1_val_acc, axis=0), label='2 FC + 1 Conv')\n",
    "plt.plot(x, np.mean(l1c2_val_acc, axis=0), label='1 FC + 2 Conv')\n",
    "plt.plot(x, np.mean(l2c2_val_acc, axis=0), label='2 FC + 2 Conv')\n",
    "plt.plot(x, np.mean(l3c3_val_acc, axis=0), label='3 FC + 3 Conv')\n",
    "plt.legend(loc='best')\n",
    "plt.xticks(x);"
   ]
  },
  {
   "cell_type": "markdown",
   "metadata": {},
   "source": [
    "### Test Loss"
   ]
  },
  {
   "cell_type": "code",
   "execution_count": 14,
   "metadata": {},
   "outputs": [
    {
     "data": {
      "image/png": "[encoded data removed]",
      "text/plain": [
       "<Figure size 432x288 with 1 Axes>"
      ]
     },
     "metadata": {
      "needs_background": "light"
     },
     "output_type": "display_data"
    }
   ],
   "source": [
    "losses = (spnn_test_loss, l1c1_test_loss, l2c1_test_loss, l1c2_test_loss, l2c2_test_loss, l3c3_test_loss)\n",
    "labels = ('Specialized NN', '1 FC + 1 Conv', '2 FC + 1 Conv', '1 FC + 2 Conv', '2 FC + 2 Conv', '3 FC + 3 Conv')\n",
    "plt.boxplot(losses, labels=labels)\n",
    "plt.xticks(rotation=45);"
   ]
  },
  {
   "cell_type": "markdown",
   "metadata": {},
   "source": [
    "### Test Accuracy"
   ]
  },
  {
   "cell_type": "code",
   "execution_count": 15,
   "metadata": {},
   "outputs": [
    {
     "data": {
      "image/png": "[encoded data removed]",
      "text/plain": [
       "<Figure size 432x288 with 1 Axes>"
      ]
     },
     "metadata": {
      "needs_background": "light"
     },
     "output_type": "display_data"
    }
   ],
   "source": [
    "accs = (spnn_test_acc, l1c1_test_acc, l2c1_test_acc, l1c2_test_acc, l2c2_test_acc, l3c3_test_acc)\n",
    "plt.boxplot(accs, labels=labels)\n",
    "plt.xticks(rotation=45);"
   ]
  },
  {
   "cell_type": "markdown",
   "metadata": {},
   "source": [
    "### Training Speed"
   ]
  },
  {
   "cell_type": "code",
   "execution_count": 16,
   "metadata": {},
   "outputs": [
    {
     "data": {
      "image/png": "[encoded data removed]",
      "text/plain": [
       "<Figure size 432x288 with 1 Axes>"
      ]
     },
     "metadata": {
      "needs_background": "light"
     },
     "output_type": "display_data"
    }
   ],
   "source": [
    "train_times = (spnn_train_time.mean(), l1c1_train_time.mean(), l2c1_train_time.mean(), l1c2_train_time.mean(), l2c2_train_time.mean(), l3c3_train_time.mean())\n",
    "plt.bar(labels, train_times)\n",
    "plt.xticks(rotation=45);"
   ]
  },
  {
   "cell_type": "markdown",
   "metadata": {},
   "source": [
    "### Inference Speed"
   ]
  },
  {
   "cell_type": "code",
   "execution_count": 17,
   "metadata": {},
   "outputs": [
    {
     "data": {
      "image/png": "[encoded data removed]",
      "text/plain": [
       "<Figure size 432x288 with 1 Axes>"
      ]
     },
     "metadata": {
      "needs_background": "light"
     },
     "output_type": "display_data"
    }
   ],
   "source": [
    "inf_times = (spnn_inf_time.mean(), l1c1_inf_time.mean(), l2c1_inf_time.mean(), l1c2_inf_time.mean(), l2c2_inf_time.mean(), l3c3_inf_time.mean())\n",
    "plt.bar(labels, inf_times)\n",
    "plt.xticks(rotation=45);"
   ]
  },
  {
   "cell_type": "markdown",
   "metadata": {},
   "source": [
    "# Accuracy & Speed (1 Epoch)"
   ]
  },
  {
   "cell_type": "code",
   "execution_count": 18,
   "metadata": {},
   "outputs": [],
   "source": [
    "!rm GRAM/maps && ln -s ~/HDD/mask_maps_50_small GRAM/maps\n",
    "NUM_RUNS, NUM_EPOCHS = 30, 1"
   ]
  },
  {
   "cell_type": "markdown",
   "metadata": {},
   "source": [
    "### Specialized NN"
   ]
  },
  {
   "cell_type": "code",
   "execution_count": 19,
   "metadata": {},
   "outputs": [
    {
     "name": "stdout",
     "output_type": "stream",
     "text": [
      "30 - 1\t"
     ]
    }
   ],
   "source": [
    "spnn_train_loss_1, spnn_val_loss_1, spnn_val_acc_1, spnn_test_loss_1, spnn_test_acc_1, spnn_train_time_1, spnn_inf_time_1 \\\n",
    "    = np.zeros((NUM_RUNS, NUM_EPOCHS)), np.zeros((NUM_RUNS, NUM_EPOCHS)), np.zeros((NUM_RUNS, NUM_EPOCHS)), \\\n",
    "      np.zeros((NUM_RUNS)), np.zeros((NUM_RUNS)), np.zeros((NUM_RUNS, NUM_EPOCHS)), np.zeros((NUM_RUNS, NUM_EPOCHS))\n",
    "for run in range(NUM_RUNS):\n",
    "    model = SpecializedNN().cuda()\n",
    "    optimizer = optim.SGD(model.parameters(), lr=0.1, momentum=0.9)\n",
    "    for epoch in range(NUM_EPOCHS):\n",
    "        print(f'\\r{run + 1} - {epoch + 1}\\t', end='')\n",
    "        train_loss, train_time = train(gram_dataloader_train, model, optimizer)\n",
    "        spnn_train_loss_1[run, epoch] = train_loss\n",
    "        spnn_train_time_1[run, epoch] = train_time\n",
    "        val_loss, val_acc, inf_time = evaluate_val(gram_dataloader_val, model)\n",
    "        spnn_val_loss_1[run, epoch] = val_loss\n",
    "        spnn_val_acc_1[run, epoch] = val_acc\n",
    "        spnn_inf_time_1[run, epoch] = inf_time\n",
    "    test_loss, test_acc = evaluate_test(gram_dataloader_test, model)\n",
    "    spnn_test_loss_1[run] = test_loss\n",
    "    spnn_test_acc_1[run] = test_acc"
   ]
  },
  {
   "cell_type": "markdown",
   "metadata": {},
   "source": [
    "### 1 Linear + 1 Conv"
   ]
  },
  {
   "cell_type": "code",
   "execution_count": 20,
   "metadata": {},
   "outputs": [
    {
     "name": "stdout",
     "output_type": "stream",
     "text": [
      "30 - 1\t"
     ]
    }
   ],
   "source": [
    "l1c1_train_loss_1, l1c1_val_loss_1, l1c1_val_acc_1, l1c1_test_loss_1, l1c1_test_acc_1, l1c1_train_time_1, l1c1_inf_time_1 \\\n",
    "    = np.zeros((NUM_RUNS, NUM_EPOCHS)), np.zeros((NUM_RUNS, NUM_EPOCHS)), np.zeros((NUM_RUNS, NUM_EPOCHS)), \\\n",
    "      np.zeros((NUM_RUNS)), np.zeros((NUM_RUNS)), np.zeros((NUM_RUNS, NUM_EPOCHS)), np.zeros((NUM_RUNS, NUM_EPOCHS))\n",
    "for run in range(NUM_RUNS):\n",
    "    model = Linear1Conv1().cuda()\n",
    "    optimizer = optim.Adam(model.parameters())\n",
    "    for epoch in range(NUM_EPOCHS):\n",
    "        print(f'\\r{run + 1} - {epoch + 1}\\t', end='')\n",
    "        train_loss, train_time = train(act_map_dataloader_train, model, optimizer)\n",
    "        l1c1_train_loss_1[run, epoch] = train_loss\n",
    "        l1c1_train_time_1[run, epoch] = train_time\n",
    "        val_loss, val_acc, inf_time = evaluate_val(act_map_dataloader_val, model)\n",
    "        l1c1_val_loss_1[run, epoch] = val_loss\n",
    "        l1c1_val_acc_1[run, epoch] = val_acc\n",
    "        l1c1_inf_time_1[run, epoch] = inf_time\n",
    "    test_loss, test_acc = evaluate_test(act_map_dataloader_test, model)\n",
    "    l1c1_test_loss_1[run] = test_loss\n",
    "    l1c1_test_acc_1[run] = test_acc"
   ]
  },
  {
   "cell_type": "markdown",
   "metadata": {},
   "source": [
    "### 2 Linear + 1 Conv"
   ]
  },
  {
   "cell_type": "code",
   "execution_count": 21,
   "metadata": {},
   "outputs": [
    {
     "name": "stdout",
     "output_type": "stream",
     "text": [
      "30 - 1\t"
     ]
    }
   ],
   "source": [
    "l2c1_train_loss_1, l2c1_val_loss_1, l2c1_val_acc_1, l2c1_test_loss_1, l2c1_test_acc_1, l2c1_train_time_1, l2c1_inf_time_1 \\\n",
    "    = np.zeros((NUM_RUNS, NUM_EPOCHS)), np.zeros((NUM_RUNS, NUM_EPOCHS)), np.zeros((NUM_RUNS, NUM_EPOCHS)), \\\n",
    "      np.zeros((NUM_RUNS)), np.zeros((NUM_RUNS)), np.zeros((NUM_RUNS, NUM_EPOCHS)), np.zeros((NUM_RUNS, NUM_EPOCHS))\n",
    "for run in range(NUM_RUNS):\n",
    "    model = Linear2Conv1().cuda()\n",
    "    optimizer = optim.Adam(model.parameters())\n",
    "    for epoch in range(NUM_EPOCHS):\n",
    "        print(f'\\r{run + 1} - {epoch + 1}\\t', end='')\n",
    "        train_loss, train_time = train(act_map_dataloader_train, model, optimizer)\n",
    "        l2c1_train_loss_1[run, epoch] = train_loss\n",
    "        l2c1_train_time_1[run, epoch] = train_time\n",
    "        val_loss, val_acc, inf_time = evaluate_val(act_map_dataloader_val, model)\n",
    "        l2c1_val_loss_1[run, epoch] = val_loss\n",
    "        l2c1_val_acc_1[run, epoch] = val_acc\n",
    "        l2c1_inf_time_1[run, epoch] = inf_time\n",
    "    test_loss, test_acc = evaluate_test(act_map_dataloader_test, model)\n",
    "    l2c1_test_loss_1[run] = test_loss\n",
    "    l2c1_test_acc_1[run] = test_acc"
   ]
  },
  {
   "cell_type": "markdown",
   "metadata": {},
   "source": [
    "### 1 Linear + 2 Conv"
   ]
  },
  {
   "cell_type": "code",
   "execution_count": 22,
   "metadata": {},
   "outputs": [
    {
     "name": "stdout",
     "output_type": "stream",
     "text": [
      "30 - 1\t"
     ]
    }
   ],
   "source": [
    "l1c2_train_loss_1, l1c2_val_loss_1, l1c2_val_acc_1, l1c2_test_loss_1, l1c2_test_acc_1, l1c2_train_time_1, l1c2_inf_time_1 \\\n",
    "    = np.zeros((NUM_RUNS, NUM_EPOCHS)), np.zeros((NUM_RUNS, NUM_EPOCHS)), np.zeros((NUM_RUNS, NUM_EPOCHS)), \\\n",
    "      np.zeros((NUM_RUNS)), np.zeros((NUM_RUNS)), np.zeros((NUM_RUNS, NUM_EPOCHS)), np.zeros((NUM_RUNS, NUM_EPOCHS))\n",
    "for run in range(NUM_RUNS):\n",
    "    model = Linear1Conv2().cuda()\n",
    "    optimizer = optim.Adam(model.parameters())\n",
    "    for epoch in range(NUM_EPOCHS):\n",
    "        print(f'\\r{run + 1} - {epoch + 1}\\t', end='')\n",
    "        train_loss, train_time = train(act_map_dataloader_train, model, optimizer)\n",
    "        l1c2_train_loss_1[run, epoch] = train_loss\n",
    "        l1c2_train_time_1[run, epoch] = train_time\n",
    "        val_loss, val_acc, inf_time = evaluate_val(act_map_dataloader_val, model)\n",
    "        l1c2_val_loss_1[run, epoch] = val_loss\n",
    "        l1c2_val_acc_1[run, epoch] = val_acc\n",
    "        l1c2_inf_time_1[run, epoch] = inf_time\n",
    "    test_loss, test_acc = evaluate_test(act_map_dataloader_test, model)\n",
    "    l1c2_test_loss_1[run] = test_loss\n",
    "    l1c2_test_acc_1[run] = test_acc"
   ]
  },
  {
   "cell_type": "markdown",
   "metadata": {},
   "source": [
    "### 2 Linear + 2 Conv"
   ]
  },
  {
   "cell_type": "code",
   "execution_count": 23,
   "metadata": {},
   "outputs": [
    {
     "name": "stdout",
     "output_type": "stream",
     "text": [
      "30 - 1\t"
     ]
    }
   ],
   "source": [
    "l2c2_train_loss_1, l2c2_val_loss_1, l2c2_val_acc_1, l2c2_test_loss_1, l2c2_test_acc_1, l2c2_train_time_1, l2c2_inf_time_1 \\\n",
    "    = np.zeros((NUM_RUNS, NUM_EPOCHS)), np.zeros((NUM_RUNS, NUM_EPOCHS)), np.zeros((NUM_RUNS, NUM_EPOCHS)), \\\n",
    "      np.zeros((NUM_RUNS)), np.zeros((NUM_RUNS)), np.zeros((NUM_RUNS, NUM_EPOCHS)), np.zeros((NUM_RUNS, NUM_EPOCHS))\n",
    "for run in range(NUM_RUNS):\n",
    "    model = Linear2Conv2().cuda()\n",
    "    optimizer = optim.Adam(model.parameters())\n",
    "    for epoch in range(NUM_EPOCHS):\n",
    "        print(f'\\r{run + 1} - {epoch + 1}\\t', end='')\n",
    "        train_loss, train_time = train(act_map_dataloader_train, model, optimizer)\n",
    "        l2c2_train_loss_1[run, epoch] = train_loss\n",
    "        l2c2_train_time_1[run, epoch] = train_time\n",
    "        val_loss, val_acc, inf_time = evaluate_val(act_map_dataloader_val, model)\n",
    "        l2c2_val_loss_1[run, epoch] = val_loss\n",
    "        l2c2_val_acc_1[run, epoch] = val_acc\n",
    "        l2c2_inf_time_1[run, epoch] = inf_time\n",
    "    test_loss, test_acc = evaluate_test(act_map_dataloader_test, model)\n",
    "    l2c2_test_loss_1[run] = test_loss\n",
    "    l2c2_test_acc_1[run] = test_acc"
   ]
  },
  {
   "cell_type": "markdown",
   "metadata": {},
   "source": [
    "### 3 Linear + 3 Conv"
   ]
  },
  {
   "cell_type": "code",
   "execution_count": 24,
   "metadata": {},
   "outputs": [
    {
     "name": "stdout",
     "output_type": "stream",
     "text": [
      "30 - 1\t"
     ]
    }
   ],
   "source": [
    "l3c3_train_loss_1, l3c3_val_loss_1, l3c3_val_acc_1, l3c3_test_loss_1, l3c3_test_acc_1, l3c3_train_time_1, l3c3_inf_time_1 \\\n",
    "    = np.zeros((NUM_RUNS, NUM_EPOCHS)), np.zeros((NUM_RUNS, NUM_EPOCHS)), np.zeros((NUM_RUNS, NUM_EPOCHS)), \\\n",
    "      np.zeros((NUM_RUNS)), np.zeros((NUM_RUNS)), np.zeros((NUM_RUNS, NUM_EPOCHS)), np.zeros((NUM_RUNS, NUM_EPOCHS))\n",
    "for run in range(NUM_RUNS):\n",
    "    model = Linear3Conv3().cuda()\n",
    "    optimizer = optim.Adam(model.parameters())\n",
    "    for epoch in range(NUM_EPOCHS):\n",
    "        print(f'\\r{run + 1} - {epoch + 1}\\t', end='')\n",
    "        train_loss, train_time = train(act_map_dataloader_train, model, optimizer)\n",
    "        l3c3_train_loss_1[run, epoch] = train_loss\n",
    "        l3c3_train_time_1[run, epoch] = train_time\n",
    "        val_loss, val_acc, inf_time = evaluate_val(act_map_dataloader_val, model)\n",
    "        l3c3_val_loss_1[run, epoch] = val_loss\n",
    "        l3c3_val_acc_1[run, epoch] = val_acc\n",
    "        l3c3_inf_time_1[run, epoch] = inf_time\n",
    "    test_loss, test_acc = evaluate_test(act_map_dataloader_test, model)\n",
    "    l3c3_test_loss_1[run] = test_loss\n",
    "    l3c3_test_acc_1[run] = test_acc"
   ]
  },
  {
   "cell_type": "markdown",
   "metadata": {},
   "source": [
    "## Plots"
   ]
  },
  {
   "cell_type": "markdown",
   "metadata": {},
   "source": [
    "### Test Loss"
   ]
  },
  {
   "cell_type": "code",
   "execution_count": 25,
   "metadata": {},
   "outputs": [
    {
     "data": {
      "image/png": "[encoded data removed]",
      "text/plain": [
       "<Figure size 432x288 with 1 Axes>"
      ]
     },
     "metadata": {
      "needs_background": "light"
     },
     "output_type": "display_data"
    }
   ],
   "source": [
    "losses = (spnn_test_loss_1, l1c1_test_loss_1, l2c1_test_loss_1, l1c2_test_loss_1, l2c2_test_loss_1, l3c3_test_loss_1)\n",
    "labels = ('Specialized NN', '1 FC + 1 Conv', '2 FC + 1 Conv', '1 FC + 2 Conv', '2 FC + 2 Conv', '3 FC + 3 Conv')\n",
    "plt.boxplot(losses, labels=labels)\n",
    "plt.xticks(rotation=45);"
   ]
  },
  {
   "cell_type": "markdown",
   "metadata": {},
   "source": [
    "### Test Accuracy"
   ]
  },
  {
   "cell_type": "code",
   "execution_count": 26,
   "metadata": {},
   "outputs": [
    {
     "data": {
      "image/png": "[encoded data removed]",
      "text/plain": [
       "<Figure size 432x288 with 1 Axes>"
      ]
     },
     "metadata": {
      "needs_background": "light"
     },
     "output_type": "display_data"
    }
   ],
   "source": [
    "accs = (spnn_test_acc_1, l1c1_test_acc_1, l2c1_test_acc_1, l1c2_test_acc_1, l2c2_test_acc_1, l3c3_test_acc_1)\n",
    "plt.boxplot(accs, labels=labels)\n",
    "plt.xticks(rotation=45);"
   ]
  },
  {
   "cell_type": "markdown",
   "metadata": {},
   "source": [
    "# Backbones"
   ]
  },
  {
   "cell_type": "code",
   "execution_count": 27,
   "metadata": {},
   "outputs": [],
   "source": [
    "NUM_RUNS, NUM_EPOCHS = 20, 15"
   ]
  },
  {
   "cell_type": "markdown",
   "metadata": {},
   "source": [
    "### Faster 50"
   ]
  },
  {
   "cell_type": "code",
   "execution_count": 28,
   "metadata": {},
   "outputs": [
    {
     "name": "stdout",
     "output_type": "stream",
     "text": [
      "20 - 15\t"
     ]
    }
   ],
   "source": [
    "!rm GRAM/maps && ln -s ~/HDD/faster_maps_50_small GRAM/maps\n",
    "\n",
    "faster50_train_loss, faster50_val_loss, faster50_val_acc, faster50_test_loss, faster50_test_acc, faster50_train_time, faster50_inf_time \\\n",
    "    = np.zeros((NUM_RUNS, NUM_EPOCHS)), np.zeros((NUM_RUNS, NUM_EPOCHS)), np.zeros((NUM_RUNS, NUM_EPOCHS)), \\\n",
    "      np.zeros((NUM_RUNS)), np.zeros((NUM_RUNS)), np.zeros((NUM_RUNS, NUM_EPOCHS)), np.zeros((NUM_RUNS, NUM_EPOCHS))\n",
    "for run in range(NUM_RUNS):\n",
    "    model = Linear2Conv1().cuda()\n",
    "    optimizer = optim.Adam(model.parameters())\n",
    "    for epoch in range(NUM_EPOCHS):\n",
    "        print(f'\\r{run + 1} - {epoch + 1}\\t', end='')\n",
    "        train_loss, train_time = train(act_map_dataloader_train, model, optimizer)\n",
    "        faster50_train_loss[run, epoch] = train_loss\n",
    "        faster50_train_time[run, epoch] = train_time\n",
    "        val_loss, val_acc, inf_time = evaluate_val(act_map_dataloader_val, model)\n",
    "        faster50_val_loss[run, epoch] = val_loss\n",
    "        faster50_val_acc[run, epoch] = val_acc\n",
    "        faster50_inf_time[run, epoch] = inf_time\n",
    "    test_loss, test_acc = evaluate_test(act_map_dataloader_test, model)\n",
    "    faster50_test_loss[run] = test_loss\n",
    "    faster50_test_acc[run] = test_acc"
   ]
  },
  {
   "cell_type": "markdown",
   "metadata": {},
   "source": [
    "### Faster 101"
   ]
  },
  {
   "cell_type": "code",
   "execution_count": 29,
   "metadata": {},
   "outputs": [
    {
     "name": "stdout",
     "output_type": "stream",
     "text": [
      "20 - 15\t"
     ]
    }
   ],
   "source": [
    "!rm GRAM/maps && ln -s ~/HDD/faster_maps_101_small GRAM/maps\n",
    "\n",
    "faster101_train_loss, faster101_val_loss, faster101_val_acc, faster101_test_loss, faster101_test_acc, faster101_train_time, faster101_inf_time \\\n",
    "    = np.zeros((NUM_RUNS, NUM_EPOCHS)), np.zeros((NUM_RUNS, NUM_EPOCHS)), np.zeros((NUM_RUNS, NUM_EPOCHS)), \\\n",
    "      np.zeros((NUM_RUNS)), np.zeros((NUM_RUNS)), np.zeros((NUM_RUNS, NUM_EPOCHS)), np.zeros((NUM_RUNS, NUM_EPOCHS))\n",
    "for run in range(NUM_RUNS):\n",
    "    model = Linear2Conv1().cuda()\n",
    "    optimizer = optim.Adam(model.parameters())\n",
    "    for epoch in range(NUM_EPOCHS):\n",
    "        print(f'\\r{run + 1} - {epoch + 1}\\t', end='')\n",
    "        train_loss, train_time = train(act_map_dataloader_train, model, optimizer)\n",
    "        faster101_train_loss[run, epoch] = train_loss\n",
    "        faster101_train_time[run, epoch] = train_time\n",
    "        val_loss, val_acc, inf_time = evaluate_val(act_map_dataloader_val, model)\n",
    "        faster101_val_loss[run, epoch] = val_loss\n",
    "        faster101_val_acc[run, epoch] = val_acc\n",
    "        faster101_inf_time[run, epoch] = inf_time\n",
    "    test_loss, test_acc = evaluate_test(act_map_dataloader_test, model)\n",
    "    faster101_test_loss[run] = test_loss\n",
    "    faster101_test_acc[run] = test_acc"
   ]
  },
  {
   "cell_type": "markdown",
   "metadata": {},
   "source": [
    "### Mask 50"
   ]
  },
  {
   "cell_type": "code",
   "execution_count": 30,
   "metadata": {},
   "outputs": [
    {
     "name": "stdout",
     "output_type": "stream",
     "text": [
      "20 - 15\t"
     ]
    }
   ],
   "source": [
    "!rm GRAM/maps && ln -s ~/HDD/mask_maps_50_small GRAM/maps\n",
    "\n",
    "mask50_train_loss, mask50_val_loss, mask50_val_acc, mask50_test_loss, mask50_test_acc, mask50_train_time, mask50_inf_time \\\n",
    "    = np.zeros((NUM_RUNS, NUM_EPOCHS)), np.zeros((NUM_RUNS, NUM_EPOCHS)), np.zeros((NUM_RUNS, NUM_EPOCHS)), \\\n",
    "      np.zeros((NUM_RUNS)), np.zeros((NUM_RUNS)), np.zeros((NUM_RUNS, NUM_EPOCHS)), np.zeros((NUM_RUNS, NUM_EPOCHS))\n",
    "for run in range(NUM_RUNS):\n",
    "    model = Linear2Conv1().cuda()\n",
    "    optimizer = optim.Adam(model.parameters())\n",
    "    for epoch in range(NUM_EPOCHS):\n",
    "        print(f'\\r{run + 1} - {epoch + 1}\\t', end='')\n",
    "        train_loss, train_time = train(act_map_dataloader_train, model, optimizer)\n",
    "        mask50_train_loss[run, epoch] = train_loss\n",
    "        mask50_train_time[run, epoch] = train_time\n",
    "        val_loss, val_acc, inf_time = evaluate_val(act_map_dataloader_val, model)\n",
    "        mask50_val_loss[run, epoch] = val_loss\n",
    "        mask50_val_acc[run, epoch] = val_acc\n",
    "        mask50_inf_time[run, epoch] = inf_time\n",
    "    test_loss, test_acc = evaluate_test(act_map_dataloader_test, model)\n",
    "    mask50_test_loss[run] = test_loss\n",
    "    mask50_test_acc[run] = test_acc"
   ]
  },
  {
   "cell_type": "markdown",
   "metadata": {},
   "source": [
    "### Mask 101"
   ]
  },
  {
   "cell_type": "code",
   "execution_count": 31,
   "metadata": {},
   "outputs": [
    {
     "name": "stdout",
     "output_type": "stream",
     "text": [
      "20 - 15\t"
     ]
    }
   ],
   "source": [
    "!rm GRAM/maps && ln -s ~/HDD/mask_maps_101_small GRAM/maps\n",
    "\n",
    "mask101_train_loss, mask101_val_loss, mask101_val_acc, mask101_test_loss, mask101_test_acc, mask101_train_time, mask101_inf_time \\\n",
    "    = np.zeros((NUM_RUNS, NUM_EPOCHS)), np.zeros((NUM_RUNS, NUM_EPOCHS)), np.zeros((NUM_RUNS, NUM_EPOCHS)), \\\n",
    "      np.zeros((NUM_RUNS)), np.zeros((NUM_RUNS)), np.zeros((NUM_RUNS, NUM_EPOCHS)), np.zeros((NUM_RUNS, NUM_EPOCHS))\n",
    "for run in range(NUM_RUNS):\n",
    "    model = Linear2Conv1().cuda()\n",
    "    optimizer = optim.Adam(model.parameters())\n",
    "    for epoch in range(NUM_EPOCHS):\n",
    "        print(f'\\r{run + 1} - {epoch + 1}\\t', end='')\n",
    "        train_loss, train_time = train(act_map_dataloader_train, model, optimizer)\n",
    "        mask101_train_loss[run, epoch] = train_loss\n",
    "        mask101_train_time[run, epoch] = train_time\n",
    "        val_loss, val_acc, inf_time = evaluate_val(act_map_dataloader_val, model)\n",
    "        mask101_val_loss[run, epoch] = val_loss\n",
    "        mask101_val_acc[run, epoch] = val_acc\n",
    "        mask101_inf_time[run, epoch] = inf_time\n",
    "    test_loss, test_acc = evaluate_test(act_map_dataloader_test, model)\n",
    "    mask101_test_loss[run] = test_loss\n",
    "    mask101_test_acc[run] = test_acc"
   ]
  },
  {
   "cell_type": "markdown",
   "metadata": {},
   "source": [
    "## Plots"
   ]
  },
  {
   "cell_type": "markdown",
   "metadata": {},
   "source": [
    "### Test Loss"
   ]
  },
  {
   "cell_type": "code",
   "execution_count": 32,
   "metadata": {},
   "outputs": [
    {
     "data": {
      "image/png": "[encoded data removed]",
      "text/plain": [
       "<Figure size 432x288 with 1 Axes>"
      ]
     },
     "metadata": {
      "needs_background": "light"
     },
     "output_type": "display_data"
    }
   ],
   "source": [
    "losses = (faster50_test_loss, faster101_test_loss, mask50_test_loss, mask101_test_loss)\n",
    "labels = ('Faster R-CNN w/ ResNet-50', 'Faster R-CNN w/ ResNet-101', 'Mask R-CNN w/ ResNet-50', 'Mask R-CNN w/ ResNet-101')\n",
    "plt.boxplot(losses, labels=labels)\n",
    "plt.xticks(rotation=45);"
   ]
  },
  {
   "cell_type": "markdown",
   "metadata": {},
   "source": [
    "### Test Accuracy"
   ]
  },
  {
   "cell_type": "code",
   "execution_count": 33,
   "metadata": {},
   "outputs": [
    {
     "data": {
      "image/png": "[encoded data removed]",
      "text/plain": [
       "<Figure size 432x288 with 1 Axes>"
      ]
     },
     "metadata": {
      "needs_background": "light"
     },
     "output_type": "display_data"
    }
   ],
   "source": [
    "losses = (faster50_test_acc, faster101_test_acc, mask50_test_acc, mask101_test_acc)\n",
    "labels = ('Faster R-CNN w/ ResNet-50', 'Faster R-CNN w/ ResNet-101', 'Mask R-CNN w/ ResNet-50', 'Mask R-CNN w/ ResNet-101')\n",
    "plt.boxplot(losses, labels=labels)\n",
    "plt.xticks(rotation=45);"
   ]
  },
  {
   "cell_type": "markdown",
   "metadata": {},
   "source": [
    "# Correlations"
   ]
  },
  {
   "cell_type": "code",
   "execution_count": 4,
   "metadata": {},
   "outputs": [],
   "source": [
    "!rm GRAM/maps && ln -s ~/HDD/mask_maps_50_small GRAM/maps\n",
    "NUM_EPOCHS = 15"
   ]
  },
  {
   "cell_type": "code",
   "execution_count": 5,
   "metadata": {},
   "outputs": [],
   "source": [
    "gram_dataset_detectron = GRAM_RTM(prefix=\"GRAM\", detectron=True)\n",
    "gram_dataset_spnn = GRAM_RTM(prefix=\"GRAM\", spec_nn=True)\n",
    "act_map_dataset_rcnn = ActivationMaps(prefix=\"GRAM\")\n",
    "gram_dataloader_spnn = DataLoader(gram_dataset_spnn, batch_size=16, shuffle=True)\n",
    "act_map_dataloader_rcnn = DataLoader(act_map_dataset_rcnn, batch_size=16, shuffle=True)"
   ]
  },
  {
   "cell_type": "markdown",
   "metadata": {},
   "source": [
    "### Mask R-CNN"
   ]
  },
  {
   "cell_type": "code",
   "execution_count": null,
   "metadata": {},
   "outputs": [],
   "source": [
    "model = FasterRCNN()\n",
    "rcnn_counts = []\n",
    "with torch.no_grad():\n",
    "    for i in range(len(gram_dataset_detectron)):\n",
    "        print(f'\\r{i}', end='')\n",
    "        image = gram_dataset_detectron[i][0]\n",
    "        rcnn_counts.append(model.forward(image))"
   ]
  },
  {
   "cell_type": "markdown",
   "metadata": {},
   "source": [
    "### Specialized NN"
   ]
  },
  {
   "cell_type": "code",
   "execution_count": null,
   "metadata": {},
   "outputs": [],
   "source": [
    "model = SpecializedNN().cuda()\n",
    "optimizer = optim.SGD(model.parameters(), lr=0.1, momentum=0.9)\n",
    "for epoch in range(NUM_EPOCHS):\n",
    "    print(f'\\r{epoch + 1}\\t', end='')\n",
    "    train(gram_dataloader_spnn, model, optimizer)\n",
    "print(evaluate_test(gram_dataloader_spnn, model))"
   ]
  },
  {
   "cell_type": "code",
   "execution_count": 8,
   "metadata": {},
   "outputs": [
    {
     "name": "stdout",
     "output_type": "stream",
     "text": [
      "7519"
     ]
    }
   ],
   "source": [
    "spnn_counts = []\n",
    "with torch.no_grad():\n",
    "    for i in range(len(gram_dataset_spnn)):\n",
    "        print(f'\\r{i}', end='')\n",
    "        image = gram_dataset_spnn[i][0]\n",
    "        image = image.cuda().unsqueeze(0)\n",
    "        num_cars = torch.argmax(model(image), dim=1).cpu().item()\n",
    "        spnn_counts.append(num_cars)"
   ]
  },
  {
   "cell_type": "markdown",
   "metadata": {},
   "source": [
    "### 2 Linear + 1 Conv"
   ]
  },
  {
   "cell_type": "code",
   "execution_count": null,
   "metadata": {},
   "outputs": [],
   "source": [
    "model = Linear2Conv1().cuda()\n",
    "optimizer = optim.Adam(model.parameters())\n",
    "for epoch in range(NUM_EPOCHS):\n",
    "    print(f'\\r{epoch + 1}\\t', end='')\n",
    "    train(act_map_dataloader_rcnn, model, optimizer)\n",
    "print(evaluate_test(act_map_dataloader_rcnn, model))"
   ]
  },
  {
   "cell_type": "code",
   "execution_count": 10,
   "metadata": {},
   "outputs": [
    {
     "name": "stdout",
     "output_type": "stream",
     "text": [
      "7519"
     ]
    }
   ],
   "source": [
    "l2c1_counts = []\n",
    "with torch.no_grad():\n",
    "    for i in range(len(act_map_dataset_rcnn)):\n",
    "        print(f'\\r{i}', end='')\n",
    "        image = act_map_dataset_rcnn[i][0]\n",
    "        image = image.cuda().unsqueeze(0)\n",
    "        num_cars = torch.argmax(model(image), dim=1).cpu().item()\n",
    "        l2c1_counts.append(num_cars)"
   ]
  },
  {
   "cell_type": "markdown",
   "metadata": {},
   "source": [
    "## Correlations"
   ]
  },
  {
   "cell_type": "code",
   "execution_count": 34,
   "metadata": {},
   "outputs": [
    {
     "name": "stdout",
     "output_type": "stream",
     "text": [
      "Correlation with Specialized NN: 0.7062295796848596\n",
      "Correlation with our model: 0.7363128501776458\n"
     ]
    }
   ],
   "source": [
    "cov = np.cov(rcnn_counts, spnn_counts)\n",
    "print(f'Correlation with Specialized NN: {cov[0,1] / (np.sqrt(cov[0,0]) * np.sqrt(cov[1,1]))}')\n",
    "cov = np.cov(rcnn_counts, l2c1_counts)\n",
    "print(f'Correlation with our model: {cov[0,1] / (np.sqrt(cov[0,0]) * np.sqrt(cov[1,1]))}')"
   ]
  }
 ],
 "metadata": {
  "kernelspec": {
   "display_name": "Python 3",
   "language": "python",
   "name": "python3"
  },
  "language_info": {
   "codemirror_mode": {
    "name": "ipython",
    "version": 3
   },
   "file_extension": ".py",
   "mimetype": "text/x-python",
   "name": "python",
   "nbconvert_exporter": "python",
   "pygments_lexer": "ipython3",
   "version": "3.8.5"
  }
 },
 "nbformat": 4,
 "nbformat_minor": 4
}
