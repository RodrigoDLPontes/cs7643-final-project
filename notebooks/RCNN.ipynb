{
 "cells": [
  {
   "cell_type": "code",
   "execution_count": 1,
   "metadata": {},
   "outputs": [],
   "source": [
    "![ ! -e Code ]  && ln -s .. Code"
   ]
  },
  {
   "cell_type": "code",
   "execution_count": 2,
   "metadata": {},
   "outputs": [],
   "source": [
    "from Code.gram import GRAM_RTM"
   ]
  },
  {
   "cell_type": "code",
   "execution_count": 3,
   "metadata": {},
   "outputs": [],
   "source": [
    "act_map_dataset = GRAM_RTM(prefix=\"GRAM\")"
   ]
  },
  {
   "cell_type": "code",
   "execution_count": 4,
   "metadata": {},
   "outputs": [],
   "source": [
    "import torch.nn as nn\n",
    "import detectron2 as dt\n",
    "from detectron2.config import get_cfg\n",
    "from detectron2 import model_zoo as zoo\n",
    "from detectron2.engine import DefaultPredictor\n",
    "\n",
    "class AdaptedFasterRCNN(nn.Module):\n",
    "\n",
    "    def __init__(self):\n",
    "        super(AdaptedFasterRCNN, self).__init__()\n",
    "        cfg = get_cfg()\n",
    "        cfg.merge_from_file(zoo.get_config_file(\"COCO-Detection/faster_rcnn_R_50_C4_3x.yaml\"))\n",
    "        cfg.MODEL.WEIGHTS = zoo.get_checkpoint_url(\"COCO-Detection/faster_rcnn_R_50_C4_3x.yaml\")\n",
    "        predictor = DefaultPredictor(cfg)\n",
    "        self.backbone = predictor.model.backbone\n",
    "        for param in self.backbone.parameters():\n",
    "            param.requires_grad = False\n",
    "        self.conv1 = nn.Conv2d(1024, 1, 1)\n",
    "#         self.conv2 = nn.Conv2d(128, 64, 5)\n",
    "        self.linear = nn.Linear(1 * 3 * 6, 7)\n",
    "        self.relu = nn.ReLU()\n",
    "#         self.maxpool1 = nn.MaxPool2d(2)\n",
    "        self.maxpool2 = nn.MaxPool2d(4)\n",
    "#         self.softmax = nn.Softmax(dim=1)\n",
    "        \n",
    "    def forward(self, images):\n",
    "        '''\n",
    "        Run mini-batch of images through model.\n",
    "\n",
    "        Args:\n",
    "            images (Tensor): A tensor of size (N, C, H, W) where\n",
    "                N is the batch size\n",
    "                C is the number of channels\n",
    "                H is the image height\n",
    "                W is the image width\n",
    "\n",
    "        Returns:\n",
    "            A Tensor of size (N, num_labels) specifying the score\n",
    "            for each example and a certain number of cars.\n",
    "        '''\n",
    "        N = images.shape[0]\n",
    "        activation_map = self.backbone(images)['res4']\n",
    "#         print(activation_map.shape)\n",
    "        activation_map = self.maxpool2(self.relu(self.conv1(activation_map)))\n",
    "#         print(activation_map.shape)\n",
    "        scores = self.linear(activation_map.view(N, -1))\n",
    "        return scores\n",
    "#         return self.softmax(scores)"
   ]
  },
  {
   "cell_type": "code",
   "execution_count": 5,
   "metadata": {},
   "outputs": [
    {
     "name": "stdout",
     "output_type": "stream",
     "text": [
      "torch.Size([3, 224, 373])\n"
     ]
    },
    {
     "data": {
      "text/plain": [
       "tensor([[-1.3639, -0.9761,  0.6508,  0.2747, -0.0389,  0.5174,  0.5805]],\n",
       "       device='cuda:0', grad_fn=<AddmmBackward>)"
      ]
     },
     "execution_count": 5,
     "metadata": {},
     "output_type": "execute_result"
    }
   ],
   "source": [
    "import torch\n",
    "sample = act_map_dataset[0]\n",
    "print(sample[0].shape)\n",
    "rcnn = AdaptedFasterRCNN().cuda()\n",
    "input_tensor = sample[0].unsqueeze(0).cuda()\n",
    "rcnn(input_tensor)"
   ]
  },
  {
   "cell_type": "code",
   "execution_count": 6,
   "metadata": {},
   "outputs": [],
   "source": [
    "from torch.utils.data import DataLoader\n",
    "train_dataset = GRAM_RTM(prefix=\"GRAM\", split=\"train\")\n",
    "val_dataset = GRAM_RTM(prefix=\"GRAM\", split=\"val\")\n",
    "test_dataset = GRAM_RTM(prefix=\"GRAM\", split=\"test\")\n",
    "train_loader = DataLoader(train_dataset, batch_size=32, shuffle=True)\n",
    "val_loader = DataLoader(val_dataset, batch_size=32, shuffle=True)\n",
    "test_loader = DataLoader(test_dataset, batch_size=32, shuffle=True)"
   ]
  },
  {
   "cell_type": "code",
   "execution_count": 7,
   "metadata": {},
   "outputs": [],
   "source": [
    "import torch.nn.functional as F\n",
    "import torch.optim as optim\n",
    "\n",
    "sgd = optim.SGD(rcnn.parameters(), lr=0.01, momentum=0.9)\n",
    "criterion = F.cross_entropy\n",
    "\n",
    "def train(epoch, losses):\n",
    "    '''\n",
    "    Train the model for one epoch.\n",
    "    '''\n",
    "    for batch_idx, batch in enumerate(train_loader):\n",
    "        act_maps, targets = batch[0].cuda(), batch[1].cuda()\n",
    "        sgd.zero_grad()\n",
    "        output = rcnn(act_maps)\n",
    "        loss = criterion(output, targets)\n",
    "        np_output = output[0].detach().cpu().numpy()\n",
    "        print(f'\\r{epoch}: {loss.item():.2f} {np_output} {np.argmax(np_output)} {targets[0].item()}\\t', end='')\n",
    "        losses.append(loss.item())\n",
    "        loss.backward()\n",
    "        sgd.step()\n",
    "        \n",
    "def evaluate(split):\n",
    "    '''\n",
    "    Compute loss on val or test data.\n",
    "    '''\n",
    "    loss = 0\n",
    "    correct = 0\n",
    "    n_examples = 0\n",
    "    with torch.no_grad():\n",
    "        if split == 'val':\n",
    "            loader = val_loader\n",
    "        elif split == 'test':\n",
    "            loader = test_loader\n",
    "        for batch_idx, batch in enumerate(loader):\n",
    "            act_maps, targets = batch[0].cuda(), batch[1].cuda()\n",
    "            output = rcnn(act_maps)\n",
    "            loss += criterion(output, targets).item()\n",
    "            pred = torch.argmax(output, dim=1)\n",
    "            correct += (pred == targets).cpu().sum().item()\n",
    "            n_examples += pred.shape[0]\n",
    "        loss /= n_examples\n",
    "        acc = 100. * correct / n_examples\n",
    "        if verbose:\n",
    "            print(f'{split} set: Average loss: {loss:.4f}, Accuracy: {correct}/{n_examples} ({acc:.0f}%)')\n",
    "    return loss, acc"
   ]
  },
  {
   "cell_type": "code",
   "execution_count": 8,
   "metadata": {},
   "outputs": [
    {
     "data": {
      "text/plain": [
       "3"
      ]
     },
     "execution_count": 8,
     "metadata": {},
     "output_type": "execute_result"
    }
   ],
   "source": [
    "output = torch.tensor([[1, 0, 0], [1, 0, 0], [0, 0, 1]])\n",
    "labels = torch.tensor([1, 0, 2])\n",
    "torch.sum(torch.argmax(output, dim=1) == labels)\n",
    "output.shape[0]"
   ]
  },
  {
   "cell_type": "code",
   "execution_count": 9,
   "metadata": {},
   "outputs": [
    {
     "name": "stdout",
     "output_type": "stream",
     "text": [
      "9: 1.72 [-0.558 0.896 1.498 0.831 0.471 -0.789 -2.276] 2 2\t"
     ]
    }
   ],
   "source": [
    "import numpy as np\n",
    "np.set_printoptions(formatter={'float': lambda x: \"{0:0.3f}\".format(x)})\n",
    "\n",
    "losses = []\n",
    "for i in range(10):\n",
    "    train(i, losses)"
   ]
  },
  {
   "cell_type": "code",
   "execution_count": 11,
   "metadata": {},
   "outputs": [
    {
     "data": {
      "text/plain": [
       "[<matplotlib.lines.Line2D at 0x7f2b445b34f0>]"
      ]
     },
     "execution_count": 11,
     "metadata": {},
     "output_type": "execute_result"
    },
    {
     "data": {
      "image/png": "[encoded data removed]",
      "text/plain": [
       "<Figure size 720x432 with 1 Axes>"
      ]
     },
     "metadata": {
      "needs_background": "light"
     },
     "output_type": "display_data"
    }
   ],
   "source": [
    "import matplotlib.pyplot as plt\n",
    "\n",
    "plt.figure(figsize=(10,6))\n",
    "plt.plot(losses)"
   ]
  }
 ],
 "metadata": {
  "kernelspec": {
   "display_name": "Python 3",
   "language": "python",
   "name": "python3"
  },
  "language_info": {
   "codemirror_mode": {
    "name": "ipython",
    "version": 3
   },
   "file_extension": ".py",
   "mimetype": "text/x-python",
   "name": "python",
   "nbconvert_exporter": "python",
   "pygments_lexer": "ipython3",
   "version": "3.8.5"
  }
 },
 "nbformat": 4,
 "nbformat_minor": 4
}
