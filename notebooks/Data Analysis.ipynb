{
 "cells": [
  {
   "cell_type": "code",
   "execution_count": 1,
   "metadata": {},
   "outputs": [],
   "source": [
    "import pandas as pd\n",
    "\n",
    "df = pd.read_csv('GRAM/num_cars_corrected.csv')"
   ]
  },
  {
   "cell_type": "code",
   "execution_count": 2,
   "metadata": {},
   "outputs": [
    {
     "name": "stdout",
     "output_type": "stream",
     "text": [
      "4512 1504\n"
     ]
    }
   ],
   "source": [
    "num_samples = len(df)\n",
    "num_train = int(num_samples * 0.6)\n",
    "num_test_val = int(num_samples * 0.2)\n",
    "print(num_train, num_test_val)"
   ]
  },
  {
   "cell_type": "code",
   "execution_count": 3,
   "metadata": {},
   "outputs": [
    {
     "name": "stdout",
     "output_type": "stream",
     "text": [
      "4512 0 6\n"
     ]
    },
    {
     "data": {
      "text/plain": [
       "array([[<matplotlib.axes._subplots.AxesSubplot object at 0x7f624ffc9c70>]],\n",
       "      dtype=object)"
      ]
     },
     "execution_count": 3,
     "metadata": {},
     "output_type": "execute_result"
    },
    {
     "data": {
      "image/png": "[encoded data removed]",
      "text/plain": [
       "<Figure size 432x288 with 1 Axes>"
      ]
     },
     "metadata": {
      "needs_background": "light"
     },
     "output_type": "display_data"
    }
   ],
   "source": [
    "train = df[:num_train]\n",
    "print(len(train), min(train['num_cars']), max(train['num_cars']))\n",
    "train.hist(bins=range(7))"
   ]
  },
  {
   "cell_type": "code",
   "execution_count": 4,
   "metadata": {},
   "outputs": [
    {
     "name": "stdout",
     "output_type": "stream",
     "text": [
      "1504 0 6\n"
     ]
    },
    {
     "data": {
      "text/plain": [
       "array([[<matplotlib.axes._subplots.AxesSubplot object at 0x7f624c5fa670>]],\n",
       "      dtype=object)"
      ]
     },
     "execution_count": 4,
     "metadata": {},
     "output_type": "execute_result"
    },
    {
     "data": {
      "image/png": "[encoded data removed]",
      "text/plain": [
       "<Figure size 432x288 with 1 Axes>"
      ]
     },
     "metadata": {
      "needs_background": "light"
     },
     "output_type": "display_data"
    }
   ],
   "source": [
    "val = df[num_train:num_train+num_test_val]\n",
    "print(len(val), min(val['num_cars']), max(val['num_cars']))\n",
    "val.hist(bins=range(7))"
   ]
  },
  {
   "cell_type": "code",
   "execution_count": 5,
   "metadata": {},
   "outputs": [
    {
     "name": "stdout",
     "output_type": "stream",
     "text": [
      "1504 0 6\n"
     ]
    },
    {
     "data": {
      "text/plain": [
       "array([[<matplotlib.axes._subplots.AxesSubplot object at 0x7f624c56d460>]],\n",
       "      dtype=object)"
      ]
     },
     "execution_count": 5,
     "metadata": {},
     "output_type": "execute_result"
    },
    {
     "data": {
      "image/png": "[encoded data removed]",
      "text/plain": [
       "<Figure size 432x288 with 1 Axes>"
      ]
     },
     "metadata": {
      "needs_background": "light"
     },
     "output_type": "display_data"
    }
   ],
   "source": [
    "test = df[num_train+num_test_val:num_train+2*num_test_val]\n",
    "print(len(test), min(test['num_cars']), max(test['num_cars']))\n",
    "test.hist(bins=range(7))"
   ]
  },
  {
   "cell_type": "code",
   "execution_count": 6,
   "metadata": {},
   "outputs": [
    {
     "data": {
      "text/plain": [
       "1"
      ]
     },
     "execution_count": 6,
     "metadata": {},
     "output_type": "execute_result"
    }
   ],
   "source": [
    "test.loc[6016][0]"
   ]
  },
  {
   "cell_type": "code",
   "execution_count": 7,
   "metadata": {},
   "outputs": [
    {
     "name": "stdout",
     "output_type": "stream",
     "text": [
      "0: 0.07287234042553191\n",
      "1: 0.24707446808510639\n",
      "2: 0.3321808510638298\n",
      "3: 0.17898936170212765\n",
      "4: 0.12393617021276596\n",
      "5: 0.04175531914893617\n",
      "6: 0.0031914893617021275\n"
     ]
    }
   ],
   "source": [
    "print('0:', (df['num_cars'] == 0).sum() / len(df))\n",
    "print('1:', (df['num_cars'] == 1).sum() / len(df))\n",
    "print('2:', (df['num_cars'] == 2).sum() / len(df))\n",
    "print('3:', (df['num_cars'] == 3).sum() / len(df))\n",
    "print('4:', (df['num_cars'] == 4).sum() / len(df))\n",
    "print('5:', (df['num_cars'] == 5).sum() / len(df))\n",
    "print('6:', (df['num_cars'] == 6).sum() / len(df))"
   ]
  },
  {
   "cell_type": "code",
   "execution_count": 8,
   "metadata": {},
   "outputs": [
    {
     "name": "stdout",
     "output_type": "stream",
     "text": [
      "0: 0.9271276595744681\n",
      "1: 0.7529255319148936\n",
      "2: 0.6678191489361702\n",
      "3: 0.8210106382978724\n",
      "4: 0.8760638297872341\n",
      "5: 0.9582446808510638\n",
      "6: 0.9968085106382979\n"
     ]
    }
   ],
   "source": [
    "print('0:', 1 - (df['num_cars'] == 0).sum() / len(df))\n",
    "print('1:', 1 - (df['num_cars'] == 1).sum() / len(df))\n",
    "print('2:', 1 - (df['num_cars'] == 2).sum() / len(df))\n",
    "print('3:', 1 - (df['num_cars'] == 3).sum() / len(df))\n",
    "print('4:', 1 - (df['num_cars'] == 4).sum() / len(df))\n",
    "print('5:', 1 - (df['num_cars'] == 5).sum() / len(df))\n",
    "print('6:', 1 - (df['num_cars'] == 6).sum() / len(df))"
   ]
  },
  {
   "cell_type": "code",
   "execution_count": 9,
   "metadata": {},
   "outputs": [
    {
     "name": "stdout",
     "output_type": "stream",
     "text": [
      "0: 0.8595656971480308\n",
      "1: 0.5668968566093255\n",
      "2: 0.4459824156858307\n",
      "3: 0.6740584681982797\n",
      "4: 0.7674878338614758\n",
      "5: 0.9182328683793572\n",
      "6: 0.9936272068809416\n"
     ]
    }
   ],
   "source": [
    "print('0:', (1 - (df['num_cars'] == 0).sum() / len(df)) ** 2)\n",
    "print('1:', (1 - (df['num_cars'] == 1).sum() / len(df)) ** 2)\n",
    "print('2:', (1 - (df['num_cars'] == 2).sum() / len(df)) ** 2)\n",
    "print('3:', (1 - (df['num_cars'] == 3).sum() / len(df)) ** 2)\n",
    "print('4:', (1 - (df['num_cars'] == 4).sum() / len(df)) ** 2)\n",
    "print('5:', (1 - (df['num_cars'] == 5).sum() / len(df)) ** 2)\n",
    "print('6:', (1 - (df['num_cars'] == 6).sum() / len(df)) ** 2)"
   ]
  },
  {
   "cell_type": "code",
   "execution_count": 10,
   "metadata": {},
   "outputs": [
    {
     "name": "stdout",
     "output_type": "stream",
     "text": [
      "0: 0.049423758865248225\n",
      "1: 0.2149822695035461\n",
      "2: 0.3663563829787234\n",
      "3: 0.19304078014184398\n",
      "4: 0.13408687943262412\n",
      "5: 0.039671985815602835\n",
      "6: 0.0024379432624113476\n"
     ]
    }
   ],
   "source": [
    "print('0:', (train['num_cars'] == 0).sum() / len(train))\n",
    "print('1:', (train['num_cars'] == 1).sum() / len(train))\n",
    "print('2:', (train['num_cars'] == 2).sum() / len(train))\n",
    "print('3:', (train['num_cars'] == 3).sum() / len(train))\n",
    "print('4:', (train['num_cars'] == 4).sum() / len(train))\n",
    "print('5:', (train['num_cars'] == 5).sum() / len(train))\n",
    "print('6:', (train['num_cars'] == 6).sum() / len(train))"
   ]
  },
  {
   "cell_type": "code",
   "execution_count": 13,
   "metadata": {},
   "outputs": [
    {
     "name": "stdout",
     "output_type": "stream",
     "text": [
      "0: 0.16622340425531915\n",
      "1: 0.31117021276595747\n",
      "2: 0.2646276595744681\n",
      "3: 0.12632978723404256\n",
      "4: 0.08111702127659574\n",
      "5: 0.04321808510638298\n",
      "6: 0.007313829787234043\n"
     ]
    }
   ],
   "source": [
    "print('0:', (val['num_cars'] == 0).sum() / len(val))\n",
    "print('1:', (val['num_cars'] == 1).sum() / len(val))\n",
    "print('2:', (val['num_cars'] == 2).sum() / len(val))\n",
    "print('3:', (val['num_cars'] == 3).sum() / len(val))\n",
    "print('4:', (val['num_cars'] == 4).sum() / len(val))\n",
    "print('5:', (val['num_cars'] == 5).sum() / len(val))\n",
    "print('6:', (val['num_cars'] == 6).sum() / len(val))"
   ]
  },
  {
   "cell_type": "code",
   "execution_count": 14,
   "metadata": {},
   "outputs": [
    {
     "name": "stdout",
     "output_type": "stream",
     "text": [
      "0: 0.049867021276595744\n",
      "1: 0.27925531914893614\n",
      "2: 0.29720744680851063\n",
      "3: 0.18949468085106383\n",
      "4: 0.1363031914893617\n",
      "5: 0.04654255319148936\n",
      "6: 0.0013297872340425532\n"
     ]
    }
   ],
   "source": [
    "print('0:', (test['num_cars'] == 0).sum() / len(test))\n",
    "print('1:', (test['num_cars'] == 1).sum() / len(test))\n",
    "print('2:', (test['num_cars'] == 2).sum() / len(test))\n",
    "print('3:', (test['num_cars'] == 3).sum() / len(test))\n",
    "print('4:', (test['num_cars'] == 4).sum() / len(test))\n",
    "print('5:', (test['num_cars'] == 5).sum() / len(test))\n",
    "print('6:', (test['num_cars'] == 6).sum() / len(test))"
   ]
  }
 ],
 "metadata": {
  "kernelspec": {
   "display_name": "Python 3",
   "language": "python",
   "name": "python3"
  },
  "language_info": {
   "codemirror_mode": {
    "name": "ipython",
    "version": 3
   },
   "file_extension": ".py",
   "mimetype": "text/x-python",
   "name": "python",
   "nbconvert_exporter": "python",
   "pygments_lexer": "ipython3",
   "version": "3.8.5"
  }
 },
 "nbformat": 4,
 "nbformat_minor": 4
}
