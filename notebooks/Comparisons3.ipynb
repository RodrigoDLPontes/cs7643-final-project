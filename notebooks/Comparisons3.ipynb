{
 "cells": [
  {
   "cell_type": "markdown",
   "metadata": {},
   "source": [
    "### **Note**\n",
    "Paths for the symlinks created throughout the notebook will need to be adjusted on a per machine basis to point to the folders created while generating feature maps in the ```Maps.ipynb``` notebook."
   ]
  },
  {
   "cell_type": "code",
   "execution_count": 1,
   "metadata": {},
   "outputs": [],
   "source": [
    "![ ! -e Code ]  && ln -s .. Code"
   ]
  },
  {
   "cell_type": "markdown",
   "metadata": {},
   "source": [
    "# Imports"
   ]
  },
  {
   "cell_type": "code",
   "execution_count": 1,
   "metadata": {},
   "outputs": [],
   "source": [
    "import torch\n",
    "import numpy as np\n",
    "import torch.optim as optim\n",
    "import matplotlib.pyplot as plt\n",
    "from time import time\n",
    "from torch.utils.data import DataLoader\n",
    "from torchvision import transforms\n",
    "from Code.gram import GRAM_RTM\n",
    "from Code.act_maps import ActivationMaps\n",
    "from Code.rcnn_models.linear_2_conv_1 import BackboneTail as Linear2Conv1\n",
    "from Code.rcnn import RCNN"
   ]
  },
  {
   "cell_type": "markdown",
   "metadata": {},
   "source": [
    "# Datasets"
   ]
  },
  {
   "cell_type": "code",
   "execution_count": 2,
   "metadata": {},
   "outputs": [],
   "source": [
    "gram_dataset_val = GRAM_RTM(prefix=\"GRAM\", split=\"val\", detectron=True)\n",
    "gram_dataset_test = GRAM_RTM(prefix=\"GRAM\", split=\"test\", detectron=True)\n",
    "act_map_dataset_train = ActivationMaps(prefix=\"GRAM\", split=\"train\")\n",
    "act_map_dataset_val = ActivationMaps(prefix=\"GRAM\", split=\"val\")\n",
    "act_map_dataset_test = ActivationMaps(prefix=\"GRAM\", split=\"test\")\n",
    "act_map_dataloader_train = DataLoader(act_map_dataset_train, batch_size=16, shuffle=True)"
   ]
  },
  {
   "cell_type": "markdown",
   "metadata": {},
   "source": [
    "# Methods"
   ]
  },
  {
   "cell_type": "code",
   "execution_count": 3,
   "metadata": {},
   "outputs": [],
   "source": [
    "import torch.nn.functional as F\n",
    "criterion = F.cross_entropy\n",
    "\n",
    "def train(loader, model, optimizer):\n",
    "    '''\n",
    "    Train the model for one epoch.\n",
    "    '''\n",
    "    for batch_idx, batch in enumerate(loader):\n",
    "        inputs, targets = batch[0].cuda(), batch[1].cuda()\n",
    "        optimizer.zero_grad()\n",
    "        output = model(inputs)\n",
    "        loss = criterion(output, targets)\n",
    "        loss.backward()\n",
    "        optimizer.step()"
   ]
  },
  {
   "cell_type": "markdown",
   "metadata": {},
   "source": [
    "# Accuracy & Speed (Long Training)"
   ]
  },
  {
   "cell_type": "code",
   "execution_count": 14,
   "metadata": {},
   "outputs": [],
   "source": [
    "!rm GRAM/maps && ln -s ~/HDD/mask_maps_50_small GRAM/maps\n",
    "NUM_EPOCHS = 15"
   ]
  },
  {
   "cell_type": "markdown",
   "metadata": {},
   "source": [
    "### 2 Linear + 1 Conv"
   ]
  },
  {
   "cell_type": "code",
   "execution_count": 15,
   "metadata": {},
   "outputs": [
    {
     "name": "stdout",
     "output_type": "stream",
     "text": [
      "15\t"
     ]
    }
   ],
   "source": [
    "model = Linear2Conv1().cuda()\n",
    "optimizer = optim.Adam(model.parameters())\n",
    "for epoch in range(NUM_EPOCHS):\n",
    "    print(f'\\r{epoch + 1}\\t', end='')\n",
    "    train(act_map_dataloader_train, model, optimizer)"
   ]
  },
  {
   "cell_type": "code",
   "execution_count": 16,
   "metadata": {},
   "outputs": [
    {
     "name": "stdout",
     "output_type": "stream",
     "text": [
      "1503\t"
     ]
    }
   ],
   "source": [
    "correct, total_time = 0, 0\n",
    "with torch.no_grad():\n",
    "    for i in range(len(act_map_dataset_val)):\n",
    "        print(f'\\r{i}\\t', end='')\n",
    "        image, target = act_map_dataset_val[i]\n",
    "        image = image.cuda().unsqueeze(0)\n",
    "        start_time = time()\n",
    "        output = model(image)\n",
    "        total_time += time() - start_time\n",
    "        num_cars = torch.argmax(output, dim=1).cpu().item()\n",
    "        if num_cars == target.item(): correct += 1\n",
    "    for i in range(len(act_map_dataset_test)):\n",
    "        print(f'\\r{i}\\t', end='')\n",
    "        image, target = act_map_dataset_test[i]\n",
    "        image = image.cuda().unsqueeze(0)\n",
    "        start_time = time()\n",
    "        output = model(image)\n",
    "        total_time += time() - start_time\n",
    "        num_cars = torch.argmax(output, dim=1).cpu().item()\n",
    "        if num_cars == target.item(): correct += 1\n",
    "l2c1_acc, l2c1_time = 100. * correct / (1504 * 2), total_time / (1504 * 2)"
   ]
  },
  {
   "cell_type": "markdown",
   "metadata": {},
   "source": [
    "### Mask RCNN"
   ]
  },
  {
   "cell_type": "code",
   "execution_count": 7,
   "metadata": {},
   "outputs": [],
   "source": [
    "transform = transforms.Compose([\n",
    "    transforms.ToTensor(),\n",
    "    transforms.Resize(224),\n",
    "    transforms.Lambda(lambda x: x.numpy().transpose(1, 2, 0) * 255)\n",
    "])"
   ]
  },
  {
   "cell_type": "code",
   "execution_count": 8,
   "metadata": {},
   "outputs": [
    {
     "name": "stdout",
     "output_type": "stream",
     "text": [
      "1 - 0\t"
     ]
    },
    {
     "name": "stderr",
     "output_type": "stream",
     "text": [
      "/home/rodrigo/.local/lib/python3.8/site-packages/detectron2/modeling/roi_heads/fast_rcnn.py:124: UserWarning: This overload of nonzero is deprecated:\n",
      "\tnonzero()\n",
      "Consider using one of the following signatures instead:\n",
      "\tnonzero(*, bool as_tuple) (Triggered internally at  /pytorch/torch/csrc/utils/python_arg_parser.cpp:882.)\n",
      "  filter_inds = filter_mask.nonzero()\n"
     ]
    },
    {
     "name": "stdout",
     "output_type": "stream",
     "text": [
      "2 - 1503\t"
     ]
    }
   ],
   "source": [
    "model = RCNN(rcnn_type=\"M50\")\n",
    "correct, total_time = 0, 0\n",
    "with torch.no_grad():\n",
    "    for i in range(len(gram_dataset_val)):\n",
    "        print(f'\\r1 - {i}\\t', end='')\n",
    "        image, target = gram_dataset_val[i]\n",
    "        image = transform(image)\n",
    "        start_time = time()\n",
    "        output = model.forward(image)\n",
    "        total_time += time() - start_time\n",
    "        start_time = time()\n",
    "        image = transforms.ToTensor()(image).cuda().unsqueeze(0)\n",
    "        model.predictor.model.backbone(image)\n",
    "        total_time -= time() - start_time\n",
    "        if output == target.item(): correct += 1\n",
    "    for i in range(len(gram_dataset_test)):\n",
    "        print(f'\\r2 - {i}\\t', end='')\n",
    "        image, target = gram_dataset_test[i]\n",
    "        image = transform(image)\n",
    "        start_time = time()\n",
    "        output = model.forward(image)\n",
    "        total_time += time() - start_time\n",
    "        start_time = time()\n",
    "        image = transforms.ToTensor()(image).cuda().unsqueeze(0)\n",
    "        model.predictor.model.backbone(image)\n",
    "        total_time -= time() - start_time\n",
    "        if output == target.item(): correct += 1\n",
    "mrcnn_acc, mrcnn_time = 100. * correct / (1504 * 2), total_time / (1504 * 2)"
   ]
  },
  {
   "cell_type": "markdown",
   "metadata": {},
   "source": [
    "### Mask RCNN"
   ]
  },
  {
   "cell_type": "code",
   "execution_count": 9,
   "metadata": {},
   "outputs": [
    {
     "name": "stdout",
     "output_type": "stream",
     "text": [
      "2 - 1503\t"
     ]
    }
   ],
   "source": [
    "model = RCNN(rcnn_type=\"F50\")\n",
    "correct, total_time = 0, 0\n",
    "with torch.no_grad():\n",
    "    for i in range(len(gram_dataset_val)):\n",
    "        print(f'\\r1 - {i}\\t', end='')\n",
    "        image, target = gram_dataset_val[i]\n",
    "        image = transform(image)\n",
    "        start_time = time()\n",
    "        output = model.forward(image)\n",
    "        total_time += time() - start_time\n",
    "        start_time = time()\n",
    "        image = transforms.ToTensor()(image).cuda().unsqueeze(0)\n",
    "        model.predictor.model.backbone(image)\n",
    "        total_time -= time() - start_time\n",
    "        if output == target.item(): correct += 1\n",
    "    for i in range(len(gram_dataset_test)):\n",
    "        print(f'\\r2 - {i}\\t', end='')\n",
    "        image, target = gram_dataset_test[i]\n",
    "        image = transform(image)\n",
    "        start_time = time()\n",
    "        output = model.forward(image)\n",
    "        total_time += time() - start_time\n",
    "        start_time = time()\n",
    "        image = transforms.ToTensor()(image).cuda().unsqueeze(0)\n",
    "        model.predictor.model.backbone(image)\n",
    "        total_time -= time() - start_time\n",
    "        if output == target.item(): correct += 1\n",
    "frcnn_acc, frcnn_time = 100. * correct / (1504 * 2), total_time / (1504 * 2)"
   ]
  },
  {
   "cell_type": "markdown",
   "metadata": {},
   "source": [
    "### Test Accuracy"
   ]
  },
  {
   "cell_type": "code",
   "execution_count": 17,
   "metadata": {},
   "outputs": [
    {
     "data": {
      "image/png": "[encoded data removed]",
      "text/plain": [
       "<Figure size 432x288 with 1 Axes>"
      ]
     },
     "metadata": {
      "needs_background": "light"
     },
     "output_type": "display_data"
    }
   ],
   "source": [
    "labels = ('2 FC + 1 Conv', 'Mask R-CNN', 'Faster R-CNN')\n",
    "accs = (l2c1_acc, mrcnn_acc, frcnn_acc)\n",
    "plt.bar(labels, accs)\n",
    "plt.xticks(rotation=45);"
   ]
  },
  {
   "cell_type": "markdown",
   "metadata": {},
   "source": [
    "### Inference Speed"
   ]
  },
  {
   "cell_type": "code",
   "execution_count": 13,
   "metadata": {},
   "outputs": [
    {
     "data": {
      "image/png": "[encoded data removed]",
      "text/plain": [
       "<Figure size 432x288 with 1 Axes>"
      ]
     },
     "metadata": {
      "needs_background": "light"
     },
     "output_type": "display_data"
    }
   ],
   "source": [
    "inf_times = (l2c1_time, mrcnn_time, frcnn_time)\n",
    "plt.bar(labels, inf_times)\n",
    "plt.xticks(rotation=45);\n",
    "plt.yscale(\"log\")"
   ]
  }
 ],
 "metadata": {
  "kernelspec": {
   "display_name": "Python 3",
   "language": "python",
   "name": "python3"
  },
  "language_info": {
   "codemirror_mode": {
    "name": "ipython",
    "version": 3
   },
   "file_extension": ".py",
   "mimetype": "text/x-python",
   "name": "python",
   "nbconvert_exporter": "python",
   "pygments_lexer": "ipython3",
   "version": "3.8.5"
  }
 },
 "nbformat": 4,
 "nbformat_minor": 4
}
